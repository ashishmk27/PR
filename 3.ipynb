{
 "cells": [
  {
   "cell_type": "code",
   "execution_count": 1,
   "metadata": {},
   "outputs": [
    {
     "name": "stdout",
     "output_type": "stream",
     "text": [
      "Enter the coordinates of Polygon 1 (e.g., x1 y1, x2 y2, ...):\n",
      "Enter the coordinates of Polygon 2 (e.g., x1 y1, x2 y2, ...):\n",
      "Covariance matrix is singular and cannot be inverted. Ensure the polygons are not collinear.\n"
     ]
    }
   ],
   "source": [
    "import numpy as np\n",
    "from scipy.spatial.distance import mahalanobis\n",
    " \n",
    "def compute_mahalanobis_distance_between_polygons(polygon1, polygon2):\n",
    "    \"\"\"\n",
    "    Compute the Mahalanobis Distance between two polygons.\n",
    " \n",
    "    Parameters:\n",
    "        polygon1 (list of tuples): List of (x, y) coordinates representing the first polygon.\n",
    "        polygon2 (list of tuples): List of (x, y) coordinates representing the second polygon.\n",
    " \n",
    "    Returns:\n",
    "        float: The Mahalanobis distance between the centroids of the two polygons.\n",
    "    \"\"\"\n",
    "    # Convert the polygons into numpy arrays\n",
    "    poly1_array = np.array(polygon1)\n",
    "    poly2_array = np.array(polygon2)\n",
    " \n",
    "    # Compute the centroids of each polygon\n",
    "    centroid1 = np.mean(poly1_array, axis=0)\n",
    "    centroid2 = np.mean(poly2_array, axis=0)\n",
    " \n",
    "    # Combine both polygons' points to compute covariance matrix\n",
    "    combined_points = np.vstack((poly1_array, poly2_array))\n",
    "    covariance_matrix = np.cov(combined_points.T)\n",
    " \n",
    "    # Handle the case of singular covariance matrix\n",
    "    try:\n",
    "        inv_cov_matrix = np.linalg.inv(covariance_matrix)\n",
    "    except np.linalg.LinAlgError:\n",
    "        raise ValueError(\"Covariance matrix is singular and cannot be inverted. Ensure the polygons are not collinear.\")\n",
    " \n",
    "    # Compute the Mahalanobis distance between the centroids\n",
    "    distance = mahalanobis(centroid1, centroid2, inv_cov_matrix)\n",
    " \n",
    "    return distance\n",
    " \n",
    "# Example Usage\n",
    "if __name__ == \"__main__\":\n",
    "    def get_polygon_input(polygon_num):\n",
    "        print(f\"Enter the coordinates of Polygon {polygon_num} (e.g., x1 y1, x2 y2, ...):\")\n",
    "        points = input(\"Coordinates: \").strip().split(\",\")\n",
    "        polygon = [tuple(map(float, point.strip().split())) for point in points]\n",
    "        return polygon\n",
    " \n",
    "    try:\n",
    "        # Get user input for the polygons\n",
    "        polygon1 = get_polygon_input(1)\n",
    "        polygon2 = get_polygon_input(2)\n",
    "         # Compute the Mahalanobis Distance\n",
    "        distance = compute_mahalanobis_distance_between_polygons(polygon1, polygon2)\n",
    "        print(f\"Mahalanobis Distance between the polygons: {distance}\")\n",
    "    except ValueError as e:\n",
    "        print(e)\n",
    "    except Exception as e:\n",
    "        print(f\"An error occurred: {e}\")\n"
   ]
  },
  {
   "cell_type": "code",
   "execution_count": null,
   "metadata": {},
   "outputs": [],
   "source": []
  }
 ],
 "metadata": {
  "kernelspec": {
   "display_name": "Python 3",
   "language": "python",
   "name": "python3"
  },
  "language_info": {
   "codemirror_mode": {
    "name": "ipython",
    "version": 3
   },
   "file_extension": ".py",
   "mimetype": "text/x-python",
   "name": "python",
   "nbconvert_exporter": "python",
   "pygments_lexer": "ipython3",
   "version": "3.12.7"
  }
 },
 "nbformat": 4,
 "nbformat_minor": 2
}
