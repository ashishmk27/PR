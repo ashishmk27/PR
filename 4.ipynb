{
 "cells": [
  {
   "cell_type": "code",
   "execution_count": 1,
   "metadata": {},
   "outputs": [
    {
     "name": "stdout",
     "output_type": "stream",
     "text": [
      "Available columns in the Titanic dataset:\n",
      "['PassengerId', 'Survived', 'Pclass', 'Name', 'Sex', 'Age', 'SibSp', 'Parch', 'Ticket', 'Fare', 'Cabin', 'Embarked']\n",
      "Shannon Entropy of the column 'Name': 9.799281621521923\n"
     ]
    }
   ],
   "source": [
    "import math\n",
    "from collections import Counter\n",
    "import pandas as pd\n",
    "\n",
    "def calculate_shannon_entropy(data):\n",
    "    counts = Counter(data.dropna())\n",
    "    total_count = sum(counts.values())\n",
    "    entropy = -sum((count / total_count) * math.log2(count / total_count) for count in counts.values())\n",
    "    return entropy\n",
    "\n",
    "url = \"https://raw.githubusercontent.com/datasciencedojo/datasets/master/titanic.csv\"\n",
    "df = pd.read_csv(url)\n",
    "\n",
    "print(\"Available columns in the Titanic dataset:\")\n",
    "print(df.columns.tolist())\n",
    "\n",
    "column = input(\"Enter the column name to calculate Shannon entropy: \")\n",
    "\n",
    "if column in df.columns:\n",
    "    entropy = calculate_shannon_entropy(df[column])\n",
    "    print(f\"Shannon Entropy of the column '{column}': {entropy}\")\n",
    "else:\n",
    "    print(f\"Column '{column}' not found in the dataset. Please try again.\")\n"
   ]
  },
  {
   "cell_type": "code",
   "execution_count": null,
   "metadata": {},
   "outputs": [],
   "source": []
  }
 ],
 "metadata": {
  "kernelspec": {
   "display_name": "Python 3",
   "language": "python",
   "name": "python3"
  },
  "language_info": {
   "codemirror_mode": {
    "name": "ipython",
    "version": 3
   },
   "file_extension": ".py",
   "mimetype": "text/x-python",
   "name": "python",
   "nbconvert_exporter": "python",
   "pygments_lexer": "ipython3",
   "version": "3.12.7"
  }
 },
 "nbformat": 4,
 "nbformat_minor": 2
}
