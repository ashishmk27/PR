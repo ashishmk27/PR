{
 "cells": [
  {
   "cell_type": "markdown",
   "metadata": {},
   "source": [
    "### fuzzy real time"
   ]
  },
  {
   "cell_type": "code",
   "execution_count": 1,
   "metadata": {},
   "outputs": [
    {
     "ename": "KeyboardInterrupt",
     "evalue": "",
     "output_type": "error",
     "traceback": [
      "\u001b[1;31m---------------------------------------------------------------------------\u001b[0m",
      "\u001b[1;31mKeyboardInterrupt\u001b[0m                         Traceback (most recent call last)",
      "Cell \u001b[1;32mIn[1], line 69\u001b[0m\n\u001b[0;32m     66\u001b[0m     cv2\u001b[38;5;241m.\u001b[39mdestroyAllWindows()\n\u001b[0;32m     68\u001b[0m \u001b[38;5;28;01mif\u001b[39;00m \u001b[38;5;18m__name__\u001b[39m \u001b[38;5;241m==\u001b[39m \u001b[38;5;124m\"\u001b[39m\u001b[38;5;124m__main__\u001b[39m\u001b[38;5;124m\"\u001b[39m:\n\u001b[1;32m---> 69\u001b[0m     \u001b[43mreal_time_image_classification\u001b[49m\u001b[43m(\u001b[49m\u001b[43m)\u001b[49m\n",
      "Cell \u001b[1;32mIn[1], line 37\u001b[0m, in \u001b[0;36mreal_time_image_classification\u001b[1;34m()\u001b[0m\n\u001b[0;32m     34\u001b[0m cap \u001b[38;5;241m=\u001b[39m cv2\u001b[38;5;241m.\u001b[39mVideoCapture(\u001b[38;5;241m0\u001b[39m)\n\u001b[0;32m     36\u001b[0m \u001b[38;5;28;01mwhile\u001b[39;00m \u001b[38;5;28;01mTrue\u001b[39;00m:\n\u001b[1;32m---> 37\u001b[0m     ret, frame \u001b[38;5;241m=\u001b[39m \u001b[43mcap\u001b[49m\u001b[38;5;241;43m.\u001b[39;49m\u001b[43mread\u001b[49m\u001b[43m(\u001b[49m\u001b[43m)\u001b[49m\n\u001b[0;32m     38\u001b[0m     \u001b[38;5;28;01mif\u001b[39;00m \u001b[38;5;129;01mnot\u001b[39;00m ret:\n\u001b[0;32m     39\u001b[0m         \u001b[38;5;28;01mbreak\u001b[39;00m\n",
      "\u001b[1;31mKeyboardInterrupt\u001b[0m: "
     ]
    }
   ],
   "source": [
    "import cv2\n",
    "import numpy as np\n",
    "import skfuzzy as fuzz\n",
    "import skfuzzy.control as ctrl\n",
    "\n",
    "# Define fuzzy variables\n",
    "brightness = ctrl.Antecedent(np.arange(0, 256, 1), 'brightness')\n",
    "edge_intensity = ctrl.Antecedent(np.arange(0, 256, 1), 'edge_intensity')\n",
    "classification = ctrl.Consequent(np.arange(0, 101, 1), 'classification')\n",
    "\n",
    "# Define membership functions\n",
    "brightness['dark'] = fuzz.trimf(brightness.universe, [0, 50, 100])\n",
    "brightness['normal'] = fuzz.trimf(brightness.universe, [50, 127, 200])\n",
    "brightness['bright'] = fuzz.trimf(brightness.universe, [150, 200, 255])\n",
    "\n",
    "edge_intensity['low'] = fuzz.trimf(edge_intensity.universe, [0, 50, 100])\n",
    "edge_intensity['medium'] = fuzz.trimf(edge_intensity.universe, [50, 127, 200])\n",
    "edge_intensity['high'] = fuzz.trimf(edge_intensity.universe, [150, 200, 255])\n",
    "\n",
    "classification['low'] = fuzz.trimf(classification.universe, [0, 25, 50])\n",
    "classification['medium'] = fuzz.trimf(classification.universe, [25, 50, 75])\n",
    "classification['high'] = fuzz.trimf(classification.universe, [50, 75, 100])\n",
    "\n",
    "# Define fuzzy rules\n",
    "rule1 = ctrl.Rule(brightness['dark'] | edge_intensity['low'], classification['low'])\n",
    "rule2 = ctrl.Rule(brightness['normal'] | edge_intensity['medium'], classification['medium'])\n",
    "rule3 = ctrl.Rule(brightness['bright'] | edge_intensity['high'], classification['high'])\n",
    "\n",
    "# Create control system\n",
    "classification_ctrl = ctrl.ControlSystem([rule1, rule2, rule3])\n",
    "classifier = ctrl.ControlSystemSimulation(classification_ctrl)\n",
    "\n",
    "def real_time_image_classification():\n",
    "    cap = cv2.VideoCapture(0)\n",
    "    \n",
    "    while True:\n",
    "        ret, frame = cap.read()\n",
    "        if not ret:\n",
    "            break\n",
    "            \n",
    "        # Process image\n",
    "        gray = cv2.cvtColor(frame, cv2.COLOR_BGR2GRAY)\n",
    "        brightness_value = np.mean(gray)\n",
    "        edges = cv2.Canny(gray, 100, 200)\n",
    "        edge_intensity_value = np.mean(edges)\n",
    "        \n",
    "        # Apply fuzzy logic classification\n",
    "        classifier.input['brightness'] = brightness_value\n",
    "        classifier.input['edge_intensity'] = edge_intensity_value\n",
    "        classifier.compute()\n",
    "        \n",
    "        # Display results\n",
    "        classification_result = classifier.output['classification']\n",
    "        cv2.putText(frame, f'Classification: {classification_result:.2f}', (10, 50),\n",
    "                   cv2.FONT_HERSHEY_SIMPLEX, 1, (0, 255, 0), 2)\n",
    "        \n",
    "        # Show the frame\n",
    "        cv2.imshow('Real-Time Classification', frame)\n",
    "        \n",
    "        # Exit on 'q' key press\n",
    "        if cv2.waitKey(1) & 0xFF == ord('q'):\n",
    "            break\n",
    "            \n",
    "    # Release resources\n",
    "    cap.release()\n",
    "    cv2.destroyAllWindows()\n",
    "\n",
    "if __name__ == \"__main__\":\n",
    "    real_time_image_classification()"
   ]
  },
  {
   "cell_type": "code",
   "execution_count": null,
   "metadata": {},
   "outputs": [],
   "source": []
  }
 ],
 "metadata": {
  "kernelspec": {
   "display_name": "base",
   "language": "python",
   "name": "python3"
  },
  "language_info": {
   "codemirror_mode": {
    "name": "ipython",
    "version": 3
   },
   "file_extension": ".py",
   "mimetype": "text/x-python",
   "name": "python",
   "nbconvert_exporter": "python",
   "pygments_lexer": "ipython3",
   "version": "3.12.7"
  }
 },
 "nbformat": 4,
 "nbformat_minor": 2
}
