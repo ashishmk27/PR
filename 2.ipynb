{
 "cells": [
  {
   "cell_type": "code",
   "execution_count": 10,
   "metadata": {},
   "outputs": [
    {
     "name": "stdout",
     "output_type": "stream",
     "text": [
      "Welcome to the Titanic Dataset Pattern Matching Program using Regular Expressions!\n",
      "Available columns to search: 'survived', 'pclass', 'sex', 'age', 'sibsp', 'parch', 'fare','embarked', 'class', 'who', 'adult_male', 'deck', 'embark_town','alive', 'alone'\n",
      "\n",
      "Found 16 matches for the pattern '20' in column 'age':\n",
      "20.0\n",
      "20.0\n",
      "20.0\n",
      "20.0\n",
      "20.5\n",
      "20.0\n",
      "20.0\n",
      "20.0\n",
      "20.0\n",
      "20.0\n",
      "20.0\n",
      "20.0\n",
      "20.0\n",
      "20.0\n",
      "20.0\n",
      "20.0\n",
      "Thank you for using the program! Goodbye.\n"
     ]
    }
   ],
   "source": [
    "import pandas as pd\n",
    "import re\n",
    "import seaborn as sns\n",
    "\n",
    "titanic = sns.load_dataset('titanic')\n",
    "\n",
    "def match_pattern(data, column, pattern):\n",
    "    matched_results = [value for value in data[column] if re.match(pattern, str(value))]\n",
    "    return matched_results\n",
    "\n",
    "def get_user_input():\n",
    "    print(\"Available columns to search: 'survived', 'pclass', 'sex', 'age', 'sibsp', 'parch', 'fare','embarked', 'class', 'who', 'adult_male', 'deck', 'embark_town','alive', 'alone'\")\n",
    "    column = input(\"Enter the column name to search: \").lower()\n",
    "    \n",
    "    if column not in ['survived', 'pclass', 'sex', 'age', 'sibsp', 'parch', 'fare',\n",
    "       'embarked', 'class', 'who', 'adult_male', 'deck', 'embark_town',\n",
    "       'alive', 'alone']:\n",
    "        print(\"Invalid column name. Please enter a valid column name.\")\n",
    "        return\n",
    "    \n",
    "    pattern = input(f\"Enter the pattern to match in the '{column}' column: \")\n",
    "    matched_results = match_pattern(titanic, column, pattern)\n",
    "    \n",
    "    if matched_results:\n",
    "        print(f\"\\nFound {len(matched_results)} matches for the pattern '{pattern}' in column '{column}':\")\n",
    "        for result in matched_results:\n",
    "            print(result)\n",
    "    else:\n",
    "        print(f\"\\nNo matches found for the pattern '{pattern}' in column '{column}'.\")\n",
    "\n",
    "def main():\n",
    "    print(\"Welcome to the Titanic Dataset Pattern Matching Program using Regular Expressions!\")\n",
    "    \n",
    "    while True:\n",
    "        get_user_input()\n",
    "        again = input(\"\\nDo you want to search again? (yes/no): \").strip().lower()\n",
    "        if again != 'yes':\n",
    "            print(\"Thank you for using the program! Goodbye.\")\n",
    "            break\n",
    "\n",
    "main()\n"
   ]
  },
  {
   "cell_type": "code",
   "execution_count": 8,
   "metadata": {},
   "outputs": [
    {
     "name": "stdout",
     "output_type": "stream",
     "text": [
      "Index(['survived', 'pclass', 'sex', 'age', 'sibsp', 'parch', 'fare',\n",
      "       'embarked', 'class', 'who', 'adult_male', 'deck', 'embark_town',\n",
      "       'alive', 'alone'],\n",
      "      dtype='object')\n"
     ]
    }
   ],
   "source": [
    "import seaborn as sns\n",
    "\n",
    "# Load the Titanic dataset\n",
    "titanic = sns.load_dataset('titanic')\n",
    "\n",
    "# Display the first few rows to verify the dataset loaded correctly\n",
    "print(titanic.columns)\n"
   ]
  },
  {
   "cell_type": "code",
   "execution_count": null,
   "metadata": {},
   "outputs": [],
   "source": []
  }
 ],
 "metadata": {
  "kernelspec": {
   "display_name": "Python 3",
   "language": "python",
   "name": "python3"
  },
  "language_info": {
   "codemirror_mode": {
    "name": "ipython",
    "version": 3
   },
   "file_extension": ".py",
   "mimetype": "text/x-python",
   "name": "python",
   "nbconvert_exporter": "python",
   "pygments_lexer": "ipython3",
   "version": "3.12.7"
  }
 },
 "nbformat": 4,
 "nbformat_minor": 2
}
