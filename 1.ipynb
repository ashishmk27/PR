{
 "cells": [
  {
   "cell_type": "code",
   "execution_count": 1,
   "metadata": {},
   "outputs": [
    {
     "name": "stdout",
     "output_type": "stream",
     "text": [
      "Input: [0 0], Predicted Output: 0\n",
      "Input: [0 1], Predicted Output: 0\n",
      "Input: [1 0], Predicted Output: 0\n",
      "Input: [1 1], Predicted Output: 1\n"
     ]
    }
   ],
   "source": [
    "import numpy as np\n",
    "\n",
    "def step_function(x):\n",
    "    return 1 if x >= 0 else 0\n",
    "\n",
    "def perceptron_learning(X, y, learning_rate=0.1, epochs=10):\n",
    "    weights = np.zeros(X.shape[1])\n",
    "    bias = 0\n",
    "    for epoch in range(epochs):\n",
    "        for i in range(len(X)):\n",
    "            linear_output = np.dot(X[i], weights) + bias\n",
    "            prediction = step_function(linear_output)\n",
    "            error = y[i] - prediction\n",
    "            weights += learning_rate * error * X[i]\n",
    "            bias += learning_rate * error\n",
    "    return weights, bias\n",
    "\n",
    "def predict(X, weights, bias):\n",
    "    linear_output = np.dot(X, weights) + bias\n",
    "    return step_function(linear_output)\n",
    "\n",
    "X = np.array([[0, 0], [0, 1], [1, 0], [1, 1]])\n",
    "y = np.array([0, 0, 0, 1])\n",
    "\n",
    "weights, bias = perceptron_learning(X, y)\n",
    "\n",
    "for x in X:\n",
    "    print(f\"Input: {x}, Predicted Output: {predict(x, weights, bias)}\")\n"
   ]
  },
  {
   "cell_type": "code",
   "execution_count": null,
   "metadata": {},
   "outputs": [],
   "source": []
  }
 ],
 "metadata": {
  "kernelspec": {
   "display_name": "Python 3",
   "language": "python",
   "name": "python3"
  },
  "language_info": {
   "codemirror_mode": {
    "name": "ipython",
    "version": 3
   },
   "file_extension": ".py",
   "mimetype": "text/x-python",
   "name": "python",
   "nbconvert_exporter": "python",
   "pygments_lexer": "ipython3",
   "version": "3.12.7"
  }
 },
 "nbformat": 4,
 "nbformat_minor": 2
}
